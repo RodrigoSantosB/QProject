{
 "cells": [
  {
   "cell_type": "code",
   "execution_count": 1,
   "metadata": {},
   "outputs": [],
   "source": [
    "import numpy as np\n",
    "import pandas as pd\n",
    "import matplotlib.pyplot as plt\n",
    "\n",
    "from qiskit import QuantumCircuit\n",
    "from qiskit.circuit.library import RealAmplitudes, EfficientSU2\n",
    "from qiskit_machine_learning.algorithms import VQC\n",
    "from qiskit_algorithms.optimizers import SPSA, COBYLA, ADAM\n",
    "from qiskit.primitives import Sampler\n",
    "from qiskit_aer import Aer  # Import corrigido para Aer\n",
    "from sklearn.model_selection import KFold\n",
    "from sklearn.metrics import accuracy_score\n",
    "from sklearn.metrics import log_loss\n",
    "\n",
    "\n",
    "from sklearn.preprocessing import StandardScaler\n",
    "import plotly.express as px\n",
    "import plotly.graph_objects as go\n",
    "import plotly.io as pio\n",
    "pio.templates.default = \"plotly_white\"\n",
    "\n",
    "from vqc_lite.circuit_stack_pennylane.circuit_mps import MPS_GU2_P\n",
    "from vqc_lite.experiments.expressibility import Expressibility_Evaluation\n",
    "from vqc_lite.experiments.state_preparation import Compression_Adam\n",
    "import gc \n",
    "\n"
   ]
  },
  {
   "cell_type": "code",
   "execution_count": 2,
   "metadata": {},
   "outputs": [],
   "source": [
    "path = 'dos_data_attck.csv'"
   ]
  },
  {
   "cell_type": "markdown",
   "metadata": {},
   "source": [
    "# **Funções Utils**"
   ]
  },
  {
   "cell_type": "code",
   "execution_count": 3,
   "metadata": {},
   "outputs": [],
   "source": [
    "def plot_distribution(datas):\n",
    "  fig = px.bar(\n",
    "      datas.groupby('Label').size().reset_index(name='Count'),\n",
    "      y='Label',\n",
    "      x='Count',\n",
    "      orientation='h',\n",
    "      color_discrete_sequence=px.colors.qualitative.Dark2\n",
    "  )\n",
    "\n",
    "  fig.update_layout(\n",
    "      title={\n",
    "          'text': '<b>Distribuição de Labels</b>',\n",
    "          'x': 0.5,  # Centralizar o título horizontalmente\n",
    "          'xanchor': 'center',\n",
    "          'yanchor': 'top'\n",
    "      },\n",
    "      showlegend=False,\n",
    "      xaxis_title='Quantidade',\n",
    "      yaxis_title='Label'\n",
    "  )\n",
    "\n",
    "  fig.update_yaxes(\n",
    "      showgrid=False,\n",
    "      showline=True,\n",
    "      linewidth=2,\n",
    "      linecolor='black'\n",
    "  )\n",
    "  fig.update_xaxes(\n",
    "      showgrid=False,\n",
    "      showline=True,\n",
    "      linewidth=2,\n",
    "      linecolor='black'\n",
    "  )\n",
    "  fig.show()"
   ]
  },
  {
   "cell_type": "code",
   "execution_count": 4,
   "metadata": {},
   "outputs": [],
   "source": [
    "\n",
    "def dataset_transform(\n",
    "    path, \n",
    "    drop_colunms=['Timestamp', 'Can_Interface', 'CAN_ID'],\n",
    "    classify_to_binary=False, \n",
    "    escalation=False,\n",
    "    samples_per_class=None  # Novo parâmetro para definir a quantidade de amostras por classe\n",
    "):\n",
    "    scaler = StandardScaler()  # Instancia o StandardScaler\n",
    "    columns = ['Timestamp', 'Can_Interface', 'CAN_ID', 'Message', 'Label']\n",
    "    datas = pd.read_csv(path, sep=' ', names=columns, engine='python')\n",
    "    datas = datas.drop(drop_colunms, axis=1)\n",
    "\n",
    "    # Substituir 'benign' por 0 e outras labels por 1\n",
    "    if classify_to_binary:\n",
    "        datas['Label'] = datas['Label'].apply(lambda x: 0 if x == 'benign' else 1)\n",
    "\n",
    "    # Selecionar um número específico de amostras por classe\n",
    "    if samples_per_class:\n",
    "        sampled_data = []\n",
    "        for label, count in samples_per_class.items():\n",
    "            class_data = datas[datas['Label'] == label]\n",
    "            sampled_class = class_data.sample(n=count, replace=len(class_data) < count, random_state=42)\n",
    "            sampled_data.append(sampled_class)\n",
    "        datas = pd.concat(sampled_data).reset_index(drop=True)\n",
    "\n",
    "    # Completar as mensagens com zeros à direita se forem menores que 16 caracteres (8 bytes)\n",
    "    datas['Message'] = datas['Message'].apply(lambda x: x.ljust(16, '0') if len(x) < 16 else x)\n",
    "\n",
    "    # Converter cada byte de cada mensagem CAN para seu valor decimal\n",
    "    data_array = datas['Message'].values\n",
    "    target = datas['Label'].values\n",
    "\n",
    "    data_transform = []\n",
    "    for data in data_array:\n",
    "        numeric_values = [int(data[i:i + 2], 16) for i in range(0, len(data), 2)]\n",
    "        data_transform.append(numeric_values)\n",
    "\n",
    "    if escalation:\n",
    "        data_transform = scaler.fit_transform(data_transform)  # Aplica o fit_transform aos valores do DataFrame\n",
    "\n",
    "    data_transform = np.array(data_transform)\n",
    "    return datas, data_transform, target\n"
   ]
  },
  {
   "cell_type": "code",
   "execution_count": 5,
   "metadata": {},
   "outputs": [],
   "source": [
    "# Função de treinamento com 10-fold\n",
    "def train_vqc(data, labels, layers=1, optimizer='adam', epochs=10, num_qubits=4):\n",
    "    # Inicializar o circuito VQC com as camadas e qubits especificados\n",
    "    circuit = MPS_GU2_P(nl=layers, nq=num_qubits)\n",
    "\n",
    "    # Número de parâmetros (ajustar conforme necessário)\n",
    "    num_params = layers * num_qubits * 15  # Ajuste conforme a definição do circuito\n",
    "\n",
    "    # Treinamento 10-fold\n",
    "    kf = KFold(n_splits=10)\n",
    "    accuracies = []\n",
    "\n",
    "    for train_index, test_index in kf.split(data):\n",
    "        X_train, X_test = data[train_index], data[test_index]\n",
    "        y_train, y_test = labels[train_index], labels[test_index]\n",
    "\n",
    "        # Parâmetros iniciais para o circuito\n",
    "        params = np.random.uniform(size=num_params)\n",
    "        params = circuit.params_to_proper_shape(params)\n",
    "\n",
    "        # Treinamento com Compression_Adam para cada amostra\n",
    "        accuracies_fold = []\n",
    "        for x, y in zip(X_train, y_train):\n",
    "            # Ajustar o formato da entrada x para ser compatível com a estrutura do circuito\n",
    "            # Redimensionar o vetor para a dimensão esperada de 2^num_qubits (16 para 4 qubits)\n",
    "            x_reshaped = np.zeros(2**num_qubits)\n",
    "            x_reshaped[:len(x)] = x  # Preencher os primeiros elementos do vetor com os dados de entrada\n",
    "\n",
    "            # Normalizar o vetor de entrada para ser um vetor de estado válido\n",
    "            norm = np.linalg.norm(x_reshaped)\n",
    "            if norm == 0:\n",
    "                x_reshaped[0] = 1 / np.sqrt(2)  # Definir como um estado base se a norma for zero\n",
    "                x_reshaped[-1] = 1 / np.sqrt(2)  # Para simular um estado GHZ\n",
    "            else:\n",
    "                x_reshaped /= norm\n",
    "\n",
    "            # Ajustar a forma do vetor para ser compatível com o GHZ de 4 qubits\n",
    "            ghz = x_reshaped.reshape((2, 2, 2, 2))\n",
    "\n",
    "            # Usar Compression_Adam para o treinamento\n",
    "            if optimizer == 'adam':\n",
    "                task = Compression_Adam(ghz, circuit, steps=epochs)\n",
    "                task.run()\n",
    "\n",
    "            # Obter a saída do circuito e calcular a predição\n",
    "            psi_out = circuit.run_with_param_input(params)\n",
    "\n",
    "            # Calculando a predição (simplificadamente usando a posição de maior probabilidade)\n",
    "            prediction = np.argmax(np.abs(psi_out)**2)\n",
    "            accuracies_fold.append(int(prediction == y))\n",
    "\n",
    "        # Calcular a acurácia da fold atual\n",
    "        accuracy = np.mean(accuracies_fold)\n",
    "        accuracies.append(accuracy)\n",
    "\n",
    "    return np.mean(accuracies), np.std(accuracies)\n"
   ]
  },
  {
   "cell_type": "code",
   "execution_count": 6,
   "metadata": {},
   "outputs": [],
   "source": [
    "def angle_embedding(data):\n",
    "    \"\"\"\n",
    "    Converte os dados em ângulos de rotação para um circuito quântico.\n",
    "    Aplica rotação R_y(theta) para cada valor no array de entrada.\n",
    "    \n",
    "    Parâmetros:\n",
    "    - data: array numpy de forma (n amostras, d features)\n",
    "    \n",
    "    Retorno:\n",
    "    - circuit: QuantumCircuit com rotações de acordo com os dados\n",
    "    \"\"\"\n",
    "    n_samples, n_features = data.shape\n",
    "    n_qubits = n_features  # Cada feature será embutida em um qubit\n",
    "\n",
    "    # Criação do circuito quântico\n",
    "    circuit = QuantumCircuit(n_qubits)\n",
    "\n",
    "    # Itera sobre as amostras e aplica rotações nas features\n",
    "    for i in range(n_features):\n",
    "        # Normaliza os dados para [0, pi] para garantir que sejam ângulos válidos\n",
    "        theta = np.interp(data[:, i], (data[:, i].min(), data[:, i].max()), (0, np.pi))\n",
    "        \n",
    "        # Aplica a rotação R_y para o qubit correspondente\n",
    "        circuit.ry(theta[0], i)  # Supondo que usamos apenas a primeira amostra para demonstração\n",
    "\n",
    "    return circuit\n"
   ]
  },
  {
   "cell_type": "code",
   "execution_count": 7,
   "metadata": {},
   "outputs": [],
   "source": [
    "# Função para plotar gráficos de acurácia e loss por fold\n",
    "def plot_results(accuracies, losses):\n",
    "    folds = np.arange(1, len(accuracies) + 1)\n",
    "\n",
    "    # Gráfico de acurácia por fold\n",
    "    plt.figure(figsize=(12, 6))\n",
    "    plt.subplot(1, 2, 1)\n",
    "    plt.plot(folds, accuracies, marker='o', linestyle='-', color='blue', label='Accuracy')\n",
    "    plt.xlabel('Fold')\n",
    "    plt.ylabel('Accuracy')\n",
    "    plt.title('Accuracy per Fold')\n",
    "    plt.legend()\n",
    "    plt.grid(True)\n",
    "\n",
    "    # Gráfico de loss por fold\n",
    "    plt.subplot(1, 2, 2)\n",
    "    plt.plot(folds, losses, marker='o', linestyle='-', color='red', label='Loss')\n",
    "    plt.xlabel('Fold')\n",
    "    plt.ylabel('Loss')\n",
    "    plt.title('Loss per Fold')\n",
    "    plt.legend()\n",
    "    plt.grid(True)\n",
    "\n",
    "    plt.tight_layout()\n",
    "    plt.show()\n"
   ]
  },
  {
   "cell_type": "code",
   "execution_count": 8,
   "metadata": {},
   "outputs": [],
   "source": [
    "# Backend global reutilizável\n",
    "backend = Aer.get_backend('qasm_simulator')\n",
    "\n",
    "def create_quantum_instance(shots=1024):\n",
    "    \"\"\"Cria uma instância de sampler com backend fixo.\"\"\"\n",
    "    options = {\"backend\": backend, \"shots\": shots}\n",
    "    return Sampler(options=options)\n",
    "\n",
    "def create_ansatz(num_qubits, ansatz_type='RealAmplitudes', num_layers=2):\n",
    "    \"\"\"Cria o circuito ansatz.\"\"\"\n",
    "    if ansatz_type == 'RealAmplitudes':\n",
    "        return RealAmplitudes(num_qubits, reps=num_layers)\n",
    "    elif ansatz_type == 'EfficientSU2':\n",
    "        return EfficientSU2(num_qubits, reps=num_layers)\n",
    "    else:\n",
    "        raise ValueError(\"Tipo de ansatz não suportado.\")\n",
    "\n",
    "def create_feature_map(data_point, num_qubits, embedding='amplitude'):\n",
    "    \"\"\"Cria o circuito de feature map com o tipo de embedding desejado.\"\"\"\n",
    "    feature_map = QuantumCircuit(num_qubits, num_qubits)\n",
    "\n",
    "    if embedding == 'amplitude':\n",
    "        state_vector = np.zeros(2 ** num_qubits)\n",
    "        state_vector[:len(data_point)] = data_point\n",
    "        state_vector /= np.linalg.norm(state_vector)\n",
    "        feature_map.initialize(state_vector, range(num_qubits))\n",
    "\n",
    "    elif embedding == 'phase':\n",
    "        for i in range(num_qubits):\n",
    "            feature_map.ry(data_point[i], i)\n",
    "\n",
    "    else:\n",
    "        raise ValueError(\"Tipo de embedding não suportado.\")\n",
    "\n",
    "    feature_map.measure(range(num_qubits), range(num_qubits))\n",
    "    return feature_map\n",
    "\n",
    "def train_vqc(data, labels, num_qubits, ansatz_type='RealAmplitudes', embedding='amplitude',\n",
    "              optimizer='COBYLA', epochs=50, num_layers=2, quantum_instance=None):\n",
    "    \"\"\"Treina o modelo VQC com K-Fold, retorna a tabela de acurácias e plota loss vs accuracy.\"\"\"\n",
    "    ansatz = create_ansatz(num_qubits, ansatz_type, num_layers)\n",
    "    sampler = create_quantum_instance()\n",
    "    kf = KFold(n_splits=5)\n",
    "    accuracies = []\n",
    "    losses = []\n",
    "    results_df = pd.DataFrame(columns=['Fold', 'Accuracy', 'Optimizer', 'Embedding'])\n",
    "\n",
    "    fold_index = 1\n",
    "    for train_index, test_index in kf.split(data):\n",
    "        X_train, X_test = data[train_index], data[test_index]\n",
    "        y_train, y_test = labels[train_index], labels[test_index]\n",
    "\n",
    "        vqc = VQC(ansatz=ansatz, optimizer=optimizer, sampler=sampler)\n",
    "        vqc.fit(X_train, y_train)\n",
    "\n",
    "        y_pred = []\n",
    "        y_pred_probs = []\n",
    "        for x in X_test:\n",
    "            feature_map_circuit = create_feature_map(x, num_qubits, embedding)\n",
    "            result = sampler.run(feature_map_circuit).result()\n",
    "            counts = result.quasi_dists[0].binary_probabilities()\n",
    "            \n",
    "          # Normaliza as probabilidades\n",
    "            total_count = sum(counts.values())\n",
    "            prob_0 = counts.get('0', 0) / total_count\n",
    "            prob_1 = counts.get('1', 0) / total_count\n",
    "\n",
    "            prediction = 1 if prob_1 > prob_0 else 0\n",
    "            y_pred.append(prediction)\n",
    "            y_pred_probs.append([prob_0, prob_1])\n",
    "\n",
    "            del feature_map_circuit, result\n",
    "            gc.collect()\n",
    "\n",
    "        accuracy = accuracy_score(y_test, y_pred)\n",
    "        accuracies.append(accuracy)\n",
    "\n",
    "        # Cálculo da loss (entropia cruzada)\n",
    "        loss = log_loss(y_test, y_pred_probs, labels=[0, 1])\n",
    "        losses.append(loss)\n",
    "\n",
    "        results_df = pd.concat([results_df, pd.DataFrame({\n",
    "            'Fold': [fold_index],\n",
    "            'Accuracy': [accuracy],\n",
    "            'Optimizer': [optimizer],\n",
    "            'Embedding': [embedding]\n",
    "        })], ignore_index=True)\n",
    "\n",
    "        # Imprime o circuito ansatz\n",
    "        print(f\"Circuito do Ansatz - Fold {fold_index}:\")\n",
    "        print(ansatz)\n",
    "        fold_index += 1\n",
    "\n",
    "    mean_accuracy = np.mean(accuracies)\n",
    "    std_accuracy = np.std(accuracies)\n",
    "\n",
    "    return accuracies, std_accuracy, losses, results_df\n",
    "\n",
    "# Exemplo de execução\n",
    "def execute_training_pipeline(data, labels, num_samples=100, num_qubits=8, ansatz_choice='RealAmplitudes',\n",
    "                              embedding_type='amplitude', optimizer='COBYLA'):\n",
    "    print('Iniciando pipeline de treinamento...')\n",
    "    data_subset = np.concatenate((data[:num_samples], data[-num_samples:]))\n",
    "    labels_subset = np.concatenate((labels[:num_samples], labels[-num_samples:]))\n",
    "\n",
    "    accuracy_amplitude, std_amplitude, losses, results_df_amp = train_vqc(\n",
    "        data_subset, labels_subset, num_qubits, ansatz_choice, 'amplitude', optimizer, 25, 2\n",
    "    )\n",
    "    print(f\"Resultados para o embedding Amplitude:\\n{results_df_amp}\\n\")\n",
    "\n",
    "    accuracy_phase, std_phase, losses, results_df_phase = train_vqc(\n",
    "        data_subset, labels_subset, num_qubits, ansatz_choice, 'phase', optimizer, 25, 2\n",
    "    )\n",
    "    print(f\"Resultados para o embedding Phase:\\n{results_df_phase}\\n\")\n",
    "\n",
    "    print(f\"Accuracy (Amplitude Embedding): {np.mean(accuracy_amplitude):.4f} ± {std_amplitude:.4f}\")\n",
    "    print(f\"Accuracy (Phase Embedding): {np.mean(accuracy_phase):.4f} ± {std_phase:.4f}\")\n",
    "\n",
    "    plot_results(accuracy_amplitude, losses)\n"
   ]
  },
  {
   "cell_type": "markdown",
   "metadata": {},
   "source": [
    "# **Define train and test split**"
   ]
  },
  {
   "cell_type": "code",
   "execution_count": 9,
   "metadata": {},
   "outputs": [],
   "source": [
    "datas, data_transform, target = dataset_transform(path,  classify_to_binary=True, escalation=True,samples_per_class={0: 500, 1: 500})"
   ]
  },
  {
   "cell_type": "code",
   "execution_count": 10,
   "metadata": {},
   "outputs": [
    {
     "data": {
      "text/html": [
       "<div>\n",
       "<style scoped>\n",
       "    .dataframe tbody tr th:only-of-type {\n",
       "        vertical-align: middle;\n",
       "    }\n",
       "\n",
       "    .dataframe tbody tr th {\n",
       "        vertical-align: top;\n",
       "    }\n",
       "\n",
       "    .dataframe thead th {\n",
       "        text-align: right;\n",
       "    }\n",
       "</style>\n",
       "<table border=\"1\" class=\"dataframe\">\n",
       "  <thead>\n",
       "    <tr style=\"text-align: right;\">\n",
       "      <th></th>\n",
       "      <th>Message</th>\n",
       "      <th>Label</th>\n",
       "    </tr>\n",
       "  </thead>\n",
       "  <tbody>\n",
       "    <tr>\n",
       "      <th>0</th>\n",
       "      <td>FFFFFF0000000000</td>\n",
       "      <td>0</td>\n",
       "    </tr>\n",
       "    <tr>\n",
       "      <th>1</th>\n",
       "      <td>0201435555555555</td>\n",
       "      <td>0</td>\n",
       "    </tr>\n",
       "    <tr>\n",
       "      <th>2</th>\n",
       "      <td>02018D5555555555</td>\n",
       "      <td>0</td>\n",
       "    </tr>\n",
       "    <tr>\n",
       "      <th>3</th>\n",
       "      <td>FFFFFF0000000000</td>\n",
       "      <td>0</td>\n",
       "    </tr>\n",
       "    <tr>\n",
       "      <th>4</th>\n",
       "      <td>0201B45555555555</td>\n",
       "      <td>0</td>\n",
       "    </tr>\n",
       "    <tr>\n",
       "      <th>...</th>\n",
       "      <td>...</td>\n",
       "      <td>...</td>\n",
       "    </tr>\n",
       "    <tr>\n",
       "      <th>995</th>\n",
       "      <td>0000000000000000</td>\n",
       "      <td>1</td>\n",
       "    </tr>\n",
       "    <tr>\n",
       "      <th>996</th>\n",
       "      <td>0000000000000000</td>\n",
       "      <td>1</td>\n",
       "    </tr>\n",
       "    <tr>\n",
       "      <th>997</th>\n",
       "      <td>0000000000000000</td>\n",
       "      <td>1</td>\n",
       "    </tr>\n",
       "    <tr>\n",
       "      <th>998</th>\n",
       "      <td>0000000000000000</td>\n",
       "      <td>1</td>\n",
       "    </tr>\n",
       "    <tr>\n",
       "      <th>999</th>\n",
       "      <td>0000000000000000</td>\n",
       "      <td>1</td>\n",
       "    </tr>\n",
       "  </tbody>\n",
       "</table>\n",
       "<p>1000 rows × 2 columns</p>\n",
       "</div>"
      ],
      "text/plain": [
       "              Message  Label\n",
       "0    FFFFFF0000000000      0\n",
       "1    0201435555555555      0\n",
       "2    02018D5555555555      0\n",
       "3    FFFFFF0000000000      0\n",
       "4    0201B45555555555      0\n",
       "..                ...    ...\n",
       "995  0000000000000000      1\n",
       "996  0000000000000000      1\n",
       "997  0000000000000000      1\n",
       "998  0000000000000000      1\n",
       "999  0000000000000000      1\n",
       "\n",
       "[1000 rows x 2 columns]"
      ]
     },
     "execution_count": 10,
     "metadata": {},
     "output_type": "execute_result"
    }
   ],
   "source": [
    "datas"
   ]
  },
  {
   "cell_type": "code",
   "execution_count": 11,
   "metadata": {},
   "outputs": [
    {
     "data": {
      "application/vnd.plotly.v1+json": {
       "config": {
        "plotlyServerURL": "https://plot.ly"
       },
       "data": [
        {
         "alignmentgroup": "True",
         "hovertemplate": "Count=%{x}<br>Label=%{y}<extra></extra>",
         "legendgroup": "",
         "marker": {
          "color": "rgb(27,158,119)",
          "pattern": {
           "shape": ""
          }
         },
         "name": "",
         "offsetgroup": "",
         "orientation": "h",
         "showlegend": false,
         "textposition": "auto",
         "type": "bar",
         "x": [
          500,
          500
         ],
         "xaxis": "x",
         "y": [
          0,
          1
         ],
         "yaxis": "y"
        }
       ],
       "layout": {
        "barmode": "relative",
        "legend": {
         "tracegroupgap": 0
        },
        "margin": {
         "t": 60
        },
        "showlegend": false,
        "template": {
         "data": {
          "bar": [
           {
            "error_x": {
             "color": "#2a3f5f"
            },
            "error_y": {
             "color": "#2a3f5f"
            },
            "marker": {
             "line": {
              "color": "white",
              "width": 0.5
             },
             "pattern": {
              "fillmode": "overlay",
              "size": 10,
              "solidity": 0.2
             }
            },
            "type": "bar"
           }
          ],
          "barpolar": [
           {
            "marker": {
             "line": {
              "color": "white",
              "width": 0.5
             },
             "pattern": {
              "fillmode": "overlay",
              "size": 10,
              "solidity": 0.2
             }
            },
            "type": "barpolar"
           }
          ],
          "carpet": [
           {
            "aaxis": {
             "endlinecolor": "#2a3f5f",
             "gridcolor": "#C8D4E3",
             "linecolor": "#C8D4E3",
             "minorgridcolor": "#C8D4E3",
             "startlinecolor": "#2a3f5f"
            },
            "baxis": {
             "endlinecolor": "#2a3f5f",
             "gridcolor": "#C8D4E3",
             "linecolor": "#C8D4E3",
             "minorgridcolor": "#C8D4E3",
             "startlinecolor": "#2a3f5f"
            },
            "type": "carpet"
           }
          ],
          "choropleth": [
           {
            "colorbar": {
             "outlinewidth": 0,
             "ticks": ""
            },
            "type": "choropleth"
           }
          ],
          "contour": [
           {
            "colorbar": {
             "outlinewidth": 0,
             "ticks": ""
            },
            "colorscale": [
             [
              0,
              "#0d0887"
             ],
             [
              0.1111111111111111,
              "#46039f"
             ],
             [
              0.2222222222222222,
              "#7201a8"
             ],
             [
              0.3333333333333333,
              "#9c179e"
             ],
             [
              0.4444444444444444,
              "#bd3786"
             ],
             [
              0.5555555555555556,
              "#d8576b"
             ],
             [
              0.6666666666666666,
              "#ed7953"
             ],
             [
              0.7777777777777778,
              "#fb9f3a"
             ],
             [
              0.8888888888888888,
              "#fdca26"
             ],
             [
              1,
              "#f0f921"
             ]
            ],
            "type": "contour"
           }
          ],
          "contourcarpet": [
           {
            "colorbar": {
             "outlinewidth": 0,
             "ticks": ""
            },
            "type": "contourcarpet"
           }
          ],
          "heatmap": [
           {
            "colorbar": {
             "outlinewidth": 0,
             "ticks": ""
            },
            "colorscale": [
             [
              0,
              "#0d0887"
             ],
             [
              0.1111111111111111,
              "#46039f"
             ],
             [
              0.2222222222222222,
              "#7201a8"
             ],
             [
              0.3333333333333333,
              "#9c179e"
             ],
             [
              0.4444444444444444,
              "#bd3786"
             ],
             [
              0.5555555555555556,
              "#d8576b"
             ],
             [
              0.6666666666666666,
              "#ed7953"
             ],
             [
              0.7777777777777778,
              "#fb9f3a"
             ],
             [
              0.8888888888888888,
              "#fdca26"
             ],
             [
              1,
              "#f0f921"
             ]
            ],
            "type": "heatmap"
           }
          ],
          "heatmapgl": [
           {
            "colorbar": {
             "outlinewidth": 0,
             "ticks": ""
            },
            "colorscale": [
             [
              0,
              "#0d0887"
             ],
             [
              0.1111111111111111,
              "#46039f"
             ],
             [
              0.2222222222222222,
              "#7201a8"
             ],
             [
              0.3333333333333333,
              "#9c179e"
             ],
             [
              0.4444444444444444,
              "#bd3786"
             ],
             [
              0.5555555555555556,
              "#d8576b"
             ],
             [
              0.6666666666666666,
              "#ed7953"
             ],
             [
              0.7777777777777778,
              "#fb9f3a"
             ],
             [
              0.8888888888888888,
              "#fdca26"
             ],
             [
              1,
              "#f0f921"
             ]
            ],
            "type": "heatmapgl"
           }
          ],
          "histogram": [
           {
            "marker": {
             "pattern": {
              "fillmode": "overlay",
              "size": 10,
              "solidity": 0.2
             }
            },
            "type": "histogram"
           }
          ],
          "histogram2d": [
           {
            "colorbar": {
             "outlinewidth": 0,
             "ticks": ""
            },
            "colorscale": [
             [
              0,
              "#0d0887"
             ],
             [
              0.1111111111111111,
              "#46039f"
             ],
             [
              0.2222222222222222,
              "#7201a8"
             ],
             [
              0.3333333333333333,
              "#9c179e"
             ],
             [
              0.4444444444444444,
              "#bd3786"
             ],
             [
              0.5555555555555556,
              "#d8576b"
             ],
             [
              0.6666666666666666,
              "#ed7953"
             ],
             [
              0.7777777777777778,
              "#fb9f3a"
             ],
             [
              0.8888888888888888,
              "#fdca26"
             ],
             [
              1,
              "#f0f921"
             ]
            ],
            "type": "histogram2d"
           }
          ],
          "histogram2dcontour": [
           {
            "colorbar": {
             "outlinewidth": 0,
             "ticks": ""
            },
            "colorscale": [
             [
              0,
              "#0d0887"
             ],
             [
              0.1111111111111111,
              "#46039f"
             ],
             [
              0.2222222222222222,
              "#7201a8"
             ],
             [
              0.3333333333333333,
              "#9c179e"
             ],
             [
              0.4444444444444444,
              "#bd3786"
             ],
             [
              0.5555555555555556,
              "#d8576b"
             ],
             [
              0.6666666666666666,
              "#ed7953"
             ],
             [
              0.7777777777777778,
              "#fb9f3a"
             ],
             [
              0.8888888888888888,
              "#fdca26"
             ],
             [
              1,
              "#f0f921"
             ]
            ],
            "type": "histogram2dcontour"
           }
          ],
          "mesh3d": [
           {
            "colorbar": {
             "outlinewidth": 0,
             "ticks": ""
            },
            "type": "mesh3d"
           }
          ],
          "parcoords": [
           {
            "line": {
             "colorbar": {
              "outlinewidth": 0,
              "ticks": ""
             }
            },
            "type": "parcoords"
           }
          ],
          "pie": [
           {
            "automargin": true,
            "type": "pie"
           }
          ],
          "scatter": [
           {
            "fillpattern": {
             "fillmode": "overlay",
             "size": 10,
             "solidity": 0.2
            },
            "type": "scatter"
           }
          ],
          "scatter3d": [
           {
            "line": {
             "colorbar": {
              "outlinewidth": 0,
              "ticks": ""
             }
            },
            "marker": {
             "colorbar": {
              "outlinewidth": 0,
              "ticks": ""
             }
            },
            "type": "scatter3d"
           }
          ],
          "scattercarpet": [
           {
            "marker": {
             "colorbar": {
              "outlinewidth": 0,
              "ticks": ""
             }
            },
            "type": "scattercarpet"
           }
          ],
          "scattergeo": [
           {
            "marker": {
             "colorbar": {
              "outlinewidth": 0,
              "ticks": ""
             }
            },
            "type": "scattergeo"
           }
          ],
          "scattergl": [
           {
            "marker": {
             "colorbar": {
              "outlinewidth": 0,
              "ticks": ""
             }
            },
            "type": "scattergl"
           }
          ],
          "scattermapbox": [
           {
            "marker": {
             "colorbar": {
              "outlinewidth": 0,
              "ticks": ""
             }
            },
            "type": "scattermapbox"
           }
          ],
          "scatterpolar": [
           {
            "marker": {
             "colorbar": {
              "outlinewidth": 0,
              "ticks": ""
             }
            },
            "type": "scatterpolar"
           }
          ],
          "scatterpolargl": [
           {
            "marker": {
             "colorbar": {
              "outlinewidth": 0,
              "ticks": ""
             }
            },
            "type": "scatterpolargl"
           }
          ],
          "scatterternary": [
           {
            "marker": {
             "colorbar": {
              "outlinewidth": 0,
              "ticks": ""
             }
            },
            "type": "scatterternary"
           }
          ],
          "surface": [
           {
            "colorbar": {
             "outlinewidth": 0,
             "ticks": ""
            },
            "colorscale": [
             [
              0,
              "#0d0887"
             ],
             [
              0.1111111111111111,
              "#46039f"
             ],
             [
              0.2222222222222222,
              "#7201a8"
             ],
             [
              0.3333333333333333,
              "#9c179e"
             ],
             [
              0.4444444444444444,
              "#bd3786"
             ],
             [
              0.5555555555555556,
              "#d8576b"
             ],
             [
              0.6666666666666666,
              "#ed7953"
             ],
             [
              0.7777777777777778,
              "#fb9f3a"
             ],
             [
              0.8888888888888888,
              "#fdca26"
             ],
             [
              1,
              "#f0f921"
             ]
            ],
            "type": "surface"
           }
          ],
          "table": [
           {
            "cells": {
             "fill": {
              "color": "#EBF0F8"
             },
             "line": {
              "color": "white"
             }
            },
            "header": {
             "fill": {
              "color": "#C8D4E3"
             },
             "line": {
              "color": "white"
             }
            },
            "type": "table"
           }
          ]
         },
         "layout": {
          "annotationdefaults": {
           "arrowcolor": "#2a3f5f",
           "arrowhead": 0,
           "arrowwidth": 1
          },
          "autotypenumbers": "strict",
          "coloraxis": {
           "colorbar": {
            "outlinewidth": 0,
            "ticks": ""
           }
          },
          "colorscale": {
           "diverging": [
            [
             0,
             "#8e0152"
            ],
            [
             0.1,
             "#c51b7d"
            ],
            [
             0.2,
             "#de77ae"
            ],
            [
             0.3,
             "#f1b6da"
            ],
            [
             0.4,
             "#fde0ef"
            ],
            [
             0.5,
             "#f7f7f7"
            ],
            [
             0.6,
             "#e6f5d0"
            ],
            [
             0.7,
             "#b8e186"
            ],
            [
             0.8,
             "#7fbc41"
            ],
            [
             0.9,
             "#4d9221"
            ],
            [
             1,
             "#276419"
            ]
           ],
           "sequential": [
            [
             0,
             "#0d0887"
            ],
            [
             0.1111111111111111,
             "#46039f"
            ],
            [
             0.2222222222222222,
             "#7201a8"
            ],
            [
             0.3333333333333333,
             "#9c179e"
            ],
            [
             0.4444444444444444,
             "#bd3786"
            ],
            [
             0.5555555555555556,
             "#d8576b"
            ],
            [
             0.6666666666666666,
             "#ed7953"
            ],
            [
             0.7777777777777778,
             "#fb9f3a"
            ],
            [
             0.8888888888888888,
             "#fdca26"
            ],
            [
             1,
             "#f0f921"
            ]
           ],
           "sequentialminus": [
            [
             0,
             "#0d0887"
            ],
            [
             0.1111111111111111,
             "#46039f"
            ],
            [
             0.2222222222222222,
             "#7201a8"
            ],
            [
             0.3333333333333333,
             "#9c179e"
            ],
            [
             0.4444444444444444,
             "#bd3786"
            ],
            [
             0.5555555555555556,
             "#d8576b"
            ],
            [
             0.6666666666666666,
             "#ed7953"
            ],
            [
             0.7777777777777778,
             "#fb9f3a"
            ],
            [
             0.8888888888888888,
             "#fdca26"
            ],
            [
             1,
             "#f0f921"
            ]
           ]
          },
          "colorway": [
           "#636efa",
           "#EF553B",
           "#00cc96",
           "#ab63fa",
           "#FFA15A",
           "#19d3f3",
           "#FF6692",
           "#B6E880",
           "#FF97FF",
           "#FECB52"
          ],
          "font": {
           "color": "#2a3f5f"
          },
          "geo": {
           "bgcolor": "white",
           "lakecolor": "white",
           "landcolor": "white",
           "showlakes": true,
           "showland": true,
           "subunitcolor": "#C8D4E3"
          },
          "hoverlabel": {
           "align": "left"
          },
          "hovermode": "closest",
          "mapbox": {
           "style": "light"
          },
          "paper_bgcolor": "white",
          "plot_bgcolor": "white",
          "polar": {
           "angularaxis": {
            "gridcolor": "#EBF0F8",
            "linecolor": "#EBF0F8",
            "ticks": ""
           },
           "bgcolor": "white",
           "radialaxis": {
            "gridcolor": "#EBF0F8",
            "linecolor": "#EBF0F8",
            "ticks": ""
           }
          },
          "scene": {
           "xaxis": {
            "backgroundcolor": "white",
            "gridcolor": "#DFE8F3",
            "gridwidth": 2,
            "linecolor": "#EBF0F8",
            "showbackground": true,
            "ticks": "",
            "zerolinecolor": "#EBF0F8"
           },
           "yaxis": {
            "backgroundcolor": "white",
            "gridcolor": "#DFE8F3",
            "gridwidth": 2,
            "linecolor": "#EBF0F8",
            "showbackground": true,
            "ticks": "",
            "zerolinecolor": "#EBF0F8"
           },
           "zaxis": {
            "backgroundcolor": "white",
            "gridcolor": "#DFE8F3",
            "gridwidth": 2,
            "linecolor": "#EBF0F8",
            "showbackground": true,
            "ticks": "",
            "zerolinecolor": "#EBF0F8"
           }
          },
          "shapedefaults": {
           "line": {
            "color": "#2a3f5f"
           }
          },
          "ternary": {
           "aaxis": {
            "gridcolor": "#DFE8F3",
            "linecolor": "#A2B1C6",
            "ticks": ""
           },
           "baxis": {
            "gridcolor": "#DFE8F3",
            "linecolor": "#A2B1C6",
            "ticks": ""
           },
           "bgcolor": "white",
           "caxis": {
            "gridcolor": "#DFE8F3",
            "linecolor": "#A2B1C6",
            "ticks": ""
           }
          },
          "title": {
           "x": 0.05
          },
          "xaxis": {
           "automargin": true,
           "gridcolor": "#EBF0F8",
           "linecolor": "#EBF0F8",
           "ticks": "",
           "title": {
            "standoff": 15
           },
           "zerolinecolor": "#EBF0F8",
           "zerolinewidth": 2
          },
          "yaxis": {
           "automargin": true,
           "gridcolor": "#EBF0F8",
           "linecolor": "#EBF0F8",
           "ticks": "",
           "title": {
            "standoff": 15
           },
           "zerolinecolor": "#EBF0F8",
           "zerolinewidth": 2
          }
         }
        },
        "title": {
         "text": "<b>Distribuição de Labels</b>",
         "x": 0.5,
         "xanchor": "center",
         "yanchor": "top"
        },
        "xaxis": {
         "anchor": "y",
         "domain": [
          0,
          1
         ],
         "linecolor": "black",
         "linewidth": 2,
         "showgrid": false,
         "showline": true,
         "title": {
          "text": "Quantidade"
         }
        },
        "yaxis": {
         "anchor": "x",
         "domain": [
          0,
          1
         ],
         "linecolor": "black",
         "linewidth": 2,
         "showgrid": false,
         "showline": true,
         "title": {
          "text": "Label"
         }
        }
       }
      }
     },
     "metadata": {},
     "output_type": "display_data"
    }
   ],
   "source": [
    "plot_distribution(datas)"
   ]
  },
  {
   "cell_type": "code",
   "execution_count": 12,
   "metadata": {},
   "outputs": [
    {
     "name": "stderr",
     "output_type": "stream",
     "text": [
      "/home/rsb6/Desktop/Quantica/.venv-qiskit/lib/python3.10/site-packages/sklearn/metrics/_classification.py:2956: UserWarning:\n",
      "\n",
      "The y_pred values do not sum to one. Make sure to pass probabilities.\n",
      "\n"
     ]
    },
    {
     "name": "stdout",
     "output_type": "stream",
     "text": [
      "Circuito do Ansatz - Fold 5:\n",
      "     »\n",
      "q_0: »\n",
      "     »\n",
      "q_1: »\n",
      "     »\n",
      "q_2: »\n",
      "     »\n",
      "q_3: »\n",
      "     »\n",
      "q_4: »\n",
      "     »\n",
      "q_5: »\n",
      "     »\n",
      "q_6: »\n",
      "     »\n",
      "q_7: »\n",
      "     »\n",
      "«     ┌────────────────────────────────────────────────────────────────────────────────────────────────────────────────────────────────────────────────────────┐\n",
      "«q_0: ┤0                                                                                                                                                       ├\n",
      "«     │                                                                                                                                                        │\n",
      "«q_1: ┤1                                                                                                                                                       ├\n",
      "«     │                                                                                                                                                        │\n",
      "«q_2: ┤2                                                                                                                                                       ├\n",
      "«     │                                                                                                                                                        │\n",
      "«q_3: ┤3                                                                                                                                                       ├\n",
      "«     │  RealAmplitudes(θ[0],θ[1],θ[2],θ[3],θ[4],θ[5],θ[6],θ[7],θ[8],θ[9],θ[10],θ[11],θ[12],θ[13],θ[14],θ[15],θ[16],θ[17],θ[18],θ[19],θ[20],θ[21],θ[22],θ[23]) │\n",
      "«q_4: ┤4                                                                                                                                                       ├\n",
      "«     │                                                                                                                                                        │\n",
      "«q_5: ┤5                                                                                                                                                       ├\n",
      "«     │                                                                                                                                                        │\n",
      "«q_6: ┤6                                                                                                                                                       ├\n",
      "«     │                                                                                                                                                        │\n",
      "«q_7: ┤7                                                                                                                                                       ├\n",
      "«     └────────────────────────────────────────────────────────────────────────────────────────────────────────────────────────────────────────────────────────┘\n",
      "Resultados para o embedding Phase:\n",
      "  Fold  Accuracy                                          Optimizer Embedding\n",
      "0    1       1.0  <qiskit_algorithms.optimizers.adam_amsgrad.ADA...     phase\n",
      "1    2       1.0  <qiskit_algorithms.optimizers.adam_amsgrad.ADA...     phase\n",
      "2    3       0.5  <qiskit_algorithms.optimizers.adam_amsgrad.ADA...     phase\n",
      "3    4       0.0  <qiskit_algorithms.optimizers.adam_amsgrad.ADA...     phase\n",
      "4    5       0.0  <qiskit_algorithms.optimizers.adam_amsgrad.ADA...     phase\n",
      "\n",
      "Accuracy (Amplitude Embedding): 0.5000 ± 0.4472\n",
      "Accuracy (Phase Embedding): 0.5000 ± 0.4472\n"
     ]
    },
    {
     "data": {
      "image/png": "[encoded data removed]",
      "text/plain": [
       "<Figure size 1200x600 with 2 Axes>"
      ]
     },
     "metadata": {},
     "output_type": "display_data"
    }
   ],
   "source": [
    "# Executar o pipeline de treinamento\n",
    "execute_training_pipeline(\n",
    "    data_transform, target,           # Dados e rótulos\n",
    "    num_qubits=8,                     # Número de qubits\n",
    "    num_samples=20,                   # Número de amostras de dados\n",
    "    ansatz_choice='RealAmplitudes',   # Tipo de ansatz ('RealAmplitudes' ou 'EfficientSU2')\n",
    "    embedding_type='amplitude',       # Tipo de embedding ('amplitude' ou 'phase')\n",
    "    optimizer=ADAM(maxiter=20)        # Otimizador (COBYLA, SPSA, ADAM, etc.)\n",
    ")"
   ]
  }
 ],
 "metadata": {
  "kernelspec": {
   "display_name": ".venv-qiskit",
   "language": "python",
   "name": "python3"
  },
  "language_info": {
   "codemirror_mode": {
    "name": "ipython",
    "version": 3
   },
   "file_extension": ".py",
   "mimetype": "text/x-python",
   "name": "python",
   "nbconvert_exporter": "python",
   "pygments_lexer": "ipython3",
   "version": "3.10.12"
  }
 },
 "nbformat": 4,
 "nbformat_minor": 2
}
