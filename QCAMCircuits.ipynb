{
 "cells": [
  {
   "cell_type": "code",
   "execution_count": 1,
   "metadata": {},
   "outputs": [],
   "source": [
    "import numpy as np\n",
    "import pandas as pd\n",
    "import matplotlib.pyplot as plt\n",
    "import seaborn as sns\n",
    "from sklearn.model_selection import train_test_split\n",
    "from sklearn.linear_model import LogisticRegression\n",
    "from sklearn.metrics import accuracy_score\n",
    "\n",
    "import plotly.express as px\n",
    "import plotly.graph_objects as go\n",
    "import plotly.io as pio\n",
    "pio.templates.default = \"plotly_white\"\n",
    "\n",
    "\n",
    "from sklearn.preprocessing import LabelEncoder\n",
    "from sklearn.preprocessing import OneHotEncoder\n",
    "from sklearn.preprocessing import StandardScaler\n",
    "from sklearn.compose import ColumnTransformer\n",
    "\n",
    "\n",
    "from qiskit import QuantumCircuit, Aer, transpile, assemble, execute\n",
    "from qiskit.utils import QuantumInstance\n",
    "from qiskit.circuit.library import EfficientSU2\n",
    "from qiskit.algorithms import VQE\n",
    "from qiskit.algorithms.optimizers import SLSQP\n",
    "from sklearn.model_selection import StratifiedKFold\n",
    "from sklearn.metrics import accuracy_score\n",
    "\n"
   ]
  },
  {
   "cell_type": "code",
   "execution_count": 2,
   "metadata": {},
   "outputs": [],
   "source": [
    "path = 'dos_data_attck.csv'"
   ]
  },
  {
   "cell_type": "markdown",
   "metadata": {},
   "source": [
    "# **Funções Utils**"
   ]
  },
  {
   "cell_type": "code",
   "execution_count": 3,
   "metadata": {},
   "outputs": [],
   "source": [
    "def plot_distribution(datas):\n",
    "  fig = px.bar(\n",
    "      datas.groupby('Label').size().reset_index(name='Count'),\n",
    "      y='Label',\n",
    "      x='Count',\n",
    "      orientation='h',\n",
    "      color_discrete_sequence=px.colors.qualitative.Dark2\n",
    "  )\n",
    "\n",
    "  fig.update_layout(\n",
    "      title={\n",
    "          'text': '<b>Distribuição de Labels</b>',\n",
    "          'x': 0.5,  # Centralizar o título horizontalmente\n",
    "          'xanchor': 'center',\n",
    "          'yanchor': 'top'\n",
    "      },\n",
    "      showlegend=False,\n",
    "      xaxis_title='Quantidade',\n",
    "      yaxis_title='Label'\n",
    "  )\n",
    "\n",
    "  fig.update_yaxes(\n",
    "      showgrid=False,\n",
    "      showline=True,\n",
    "      linewidth=2,\n",
    "      linecolor='black'\n",
    "  )\n",
    "  fig.update_xaxes(\n",
    "      showgrid=False,\n",
    "      showline=True,\n",
    "      linewidth=2,\n",
    "      linecolor='black'\n",
    "  )\n",
    "  fig.show()"
   ]
  },
  {
   "cell_type": "code",
   "execution_count": 4,
   "metadata": {},
   "outputs": [],
   "source": [
    "def dataset_transform(path, drop_colunms=['Timestamp', 'Can_Interface', 'CAN_ID'],\n",
    "                      classify_to_binary=False, escalation=False):\n",
    "  scaler = StandardScaler()  # Instancia o StandardScaler\n",
    "  columns = ['Timestamp', 'Can_Interface', 'CAN_ID', 'Message', 'Label']\n",
    "  datas = pd.read_csv(path, sep = ' ', names=columns, engine='python')\n",
    "  datas = datas.drop(drop_colunms, axis=1)\n",
    "\n",
    "  # Substituir 'benign' por 0 e outras labels por 1\n",
    "  if classify_to_binary:\n",
    "      datas['Label'] = datas['Label'].apply(lambda x: 0 if x == 'benign' else 1)\n",
    "\n",
    "\n",
    "  # Completar as mensagens com zeros à direita se forem menores que 16 caracteres (8 bytes)\n",
    "  datas['Message'] = datas['Message'].apply(lambda x: x.ljust(16, '0') if len(x) < 16 else x)\n",
    "\n",
    "  # Converter cada byte de cada mensagem CAN para seu valor decimal\n",
    "  data_array = datas.iloc[:,0].values\n",
    "\n",
    "  tam = len(datas.columns)\n",
    "  target = datas.iloc[:,(tam-1)].values\n",
    "\n",
    "  data_transform = []\n",
    "  for data in data_array:\n",
    "      numeric_values = [int(data[i:i+2], 16) for i in range(0, len(data), 2)]\n",
    "      data_transform.append(numeric_values)\n",
    "\n",
    "  if escalation:\n",
    "      data_transform = scaler.fit_transform(data_transform)  # Aplica o fit_transform aos valores do DataFrame\n",
    "\n",
    "  data_transform = np.array(data_transform)\n",
    "  return datas, data_transform, target"
   ]
  },
  {
   "cell_type": "code",
   "execution_count": 8,
   "metadata": {},
   "outputs": [],
   "source": [
    "def angle_embedding(data):\n",
    "    \"\"\"\n",
    "    Converte os dados em ângulos de rotação e cria um circuito quântico.\n",
    "    \"\"\"\n",
    "    n_samples, n_features = data.shape\n",
    "    circuit = QuantumCircuit(n_features)  # Cada feature em um qubit\n",
    "\n",
    "    # Aplica a rotação Ry para cada feature\n",
    "    for i in range(n_features):\n",
    "        # Normaliza para o intervalo [0, pi]\n",
    "        theta = np.interp(data[:, i], (data[:, i].min(), data[:, i].max()), (0, np.pi))\n",
    "        circuit.ry(theta[0], i)  # Exemplo com uma amostra\n",
    "\n",
    "    return circuit"
   ]
  },
  {
   "cell_type": "markdown",
   "metadata": {},
   "source": [
    "# **Define train and test split**"
   ]
  },
  {
   "cell_type": "code",
   "execution_count": 9,
   "metadata": {},
   "outputs": [],
   "source": [
    "datas, data_transform, target = dataset_transform(path,  classify_to_binary=True, escalation=True)"
   ]
  },
  {
   "cell_type": "code",
   "execution_count": 10,
   "metadata": {},
   "outputs": [],
   "source": [
    "x_train, x_test, y_train, y_test = train_test_split(data_transform, target, test_size = 0.3, random_state = 42)"
   ]
  },
  {
   "cell_type": "code",
   "execution_count": 7,
   "metadata": {},
   "outputs": [
    {
     "data": {
      "text/plain": [
       "array([[-0.37590327, -0.22233327,  1.29541378, ...,  2.09601475,\n",
       "         2.09601475,  2.09601475],\n",
       "       [ 2.7864091 ,  4.69311574,  2.76380448, ..., -0.47709588,\n",
       "        -0.47709588, -0.47709588],\n",
       "       [-0.37590327, -0.22233327,  1.29541378, ...,  2.09601475,\n",
       "         2.09601475,  2.09601475],\n",
       "       ...,\n",
       "       [-0.40090179, -0.24168543, -0.52075366, ..., -0.47709588,\n",
       "        -0.47709588, -0.47709588],\n",
       "       [-0.40090179, -0.24168543, -0.52075366, ..., -0.47709588,\n",
       "        -0.47709588, -0.47709588],\n",
       "       [-0.40090179, -0.24168543, -0.52075366, ..., -0.47709588,\n",
       "        -0.47709588, -0.47709588]])"
      ]
     },
     "execution_count": 7,
     "metadata": {},
     "output_type": "execute_result"
    }
   ],
   "source": [
    "data_transform"
   ]
  },
  {
   "cell_type": "code",
   "execution_count": 11,
   "metadata": {},
   "outputs": [
    {
     "name": "stdout",
     "output_type": "stream",
     "text": [
      "     ┌───────┐\n",
      "q_0: ┤ Ry(0) ├\n",
      "     ├───────┤\n",
      "q_1: ┤ Ry(0) ├\n",
      "     ├───────┤\n",
      "q_2: ┤ Ry(0) ├\n",
      "     ├───────┤\n",
      "q_3: ┤ Ry(0) ├\n",
      "     ├───────┤\n",
      "q_4: ┤ Ry(0) ├\n",
      "     ├───────┤\n",
      "q_5: ┤ Ry(0) ├\n",
      "     ├───────┤\n",
      "q_6: ┤ Ry(0) ├\n",
      "     ├───────┤\n",
      "q_7: ┤ Ry(0) ├\n",
      "     └───────┘\n"
     ]
    }
   ],
   "source": [
    "\n",
    "# Aplicar Angle Embedding separadamente\n",
    "train_circuit = angle_embedding(x_train)\n",
    "test_circuit = angle_embedding(x_test)\n",
    "\n",
    "# Exibe o circuito de treino\n",
    "print(train_circuit.draw('text'))"
   ]
  },
  {
   "cell_type": "code",
   "execution_count": 14,
   "metadata": {},
   "outputs": [
    {
     "name": "stderr",
     "output_type": "stream",
     "text": [
      "10-Fold Progress:   0%|          | 0/10 [00:00<?, ?it/s]"
     ]
    },
    {
     "name": "stderr",
     "output_type": "stream",
     "text": [
      "10-Fold Progress:  10%|█         | 1/10 [00:03<00:34,  3.85s/it]"
     ]
    },
    {
     "name": "stdout",
     "output_type": "stream",
     "text": [
      "Fold 1: Accuracy = 0.5004, Loss = 18.0074\n"
     ]
    },
    {
     "name": "stderr",
     "output_type": "stream",
     "text": [
      "10-Fold Progress:  20%|██        | 2/10 [00:06<00:25,  3.19s/it]"
     ]
    },
    {
     "name": "stdout",
     "output_type": "stream",
     "text": [
      "Fold 2: Accuracy = 0.4978, Loss = 18.1011\n"
     ]
    },
    {
     "name": "stderr",
     "output_type": "stream",
     "text": [
      "10-Fold Progress:  30%|███       | 3/10 [00:08<00:17,  2.54s/it]"
     ]
    },
    {
     "name": "stdout",
     "output_type": "stream",
     "text": [
      "Fold 3: Accuracy = 0.5011, Loss = 17.9817\n"
     ]
    },
    {
     "name": "stderr",
     "output_type": "stream",
     "text": [
      "10-Fold Progress:  40%|████      | 4/10 [00:10<00:14,  2.46s/it]"
     ]
    },
    {
     "name": "stdout",
     "output_type": "stream",
     "text": [
      "Fold 4: Accuracy = 0.4991, Loss = 18.0558\n"
     ]
    },
    {
     "name": "stderr",
     "output_type": "stream",
     "text": [
      "10-Fold Progress:  50%|█████     | 5/10 [00:14<00:15,  3.07s/it]"
     ]
    },
    {
     "name": "stdout",
     "output_type": "stream",
     "text": [
      "Fold 5: Accuracy = 0.4992, Loss = 18.0496\n"
     ]
    },
    {
     "name": "stderr",
     "output_type": "stream",
     "text": [
      "10-Fold Progress:  60%|██████    | 6/10 [00:17<00:12,  3.04s/it]"
     ]
    },
    {
     "name": "stdout",
     "output_type": "stream",
     "text": [
      "Fold 6: Accuracy = 0.4967, Loss = 18.1423\n"
     ]
    },
    {
     "name": "stderr",
     "output_type": "stream",
     "text": [
      "10-Fold Progress:  70%|███████   | 7/10 [00:19<00:07,  2.56s/it]"
     ]
    },
    {
     "name": "stdout",
     "output_type": "stream",
     "text": [
      "Fold 7: Accuracy = 0.4999, Loss = 18.0239\n"
     ]
    },
    {
     "name": "stderr",
     "output_type": "stream",
     "text": [
      "10-Fold Progress:  80%|████████  | 8/10 [00:22<00:05,  2.61s/it]"
     ]
    },
    {
     "name": "stdout",
     "output_type": "stream",
     "text": [
      "Fold 8: Accuracy = 0.4997, Loss = 18.0332\n"
     ]
    },
    {
     "name": "stderr",
     "output_type": "stream",
     "text": [
      "10-Fold Progress:  90%|█████████ | 9/10 [00:24<00:02,  2.64s/it]"
     ]
    },
    {
     "name": "stdout",
     "output_type": "stream",
     "text": [
      "Fold 9: Accuracy = 0.5030, Loss = 17.9147\n"
     ]
    },
    {
     "name": "stderr",
     "output_type": "stream",
     "text": [
      "10-Fold Progress: 100%|██████████| 10/10 [00:26<00:00,  2.61s/it]"
     ]
    },
    {
     "name": "stdout",
     "output_type": "stream",
     "text": [
      "Fold 10: Accuracy = 0.4995, Loss = 18.0393\n",
      "\n",
      "Final Results - Mean Accuracy: 0.4996, Mean Loss: 18.0349\n"
     ]
    },
    {
     "name": "stderr",
     "output_type": "stream",
     "text": [
      "\n"
     ]
    },
    {
     "data": {
      "image/png": "[encoded data removed]",
      "text/plain": [
       "<Figure size 1000x500 with 2 Axes>"
      ]
     },
     "metadata": {},
     "output_type": "display_data"
    }
   ],
   "source": [
    "import numpy as np\n",
    "import matplotlib.pyplot as plt\n",
    "from qiskit import Aer\n",
    "from qiskit.circuit.library import EfficientSU2\n",
    "from qiskit.opflow import PauliSumOp\n",
    "from qiskit.algorithms import VQE\n",
    "from qiskit.algorithms.optimizers import SLSQP\n",
    "from qiskit.utils import QuantumInstance\n",
    "from sklearn.model_selection import StratifiedKFold\n",
    "from sklearn.metrics import accuracy_score, log_loss\n",
    "from tqdm import tqdm\n",
    "\n",
    "# Função para criar o CQV\n",
    "def create_circuit(num_qubits, ansatz_type='efficient'):\n",
    "    if ansatz_type == 'efficient':\n",
    "        ansatz = EfficientSU2(num_qubits, entanglement='linear')\n",
    "    else:\n",
    "        raise ValueError(\"Unsupported ansatz type.\")\n",
    "    return ansatz\n",
    "\n",
    "# Função para treinar o CQV\n",
    "def train_circuit(X_train, y_train, num_qubits):\n",
    "    ansatz = create_circuit(num_qubits)\n",
    "    operator = PauliSumOp.from_list([(\"Z\" * num_qubits, 1.0)])  # Exemplo de operador ZZZ\n",
    "    optimizer = SLSQP(maxiter=100)  # Otimizador SLSQP\n",
    "    backend = Aer.get_backend('statevector_simulator')\n",
    "\n",
    "    vqe = VQE(ansatz, optimizer, quantum_instance=QuantumInstance(backend))\n",
    "    vqe_result = vqe.compute_minimum_eigenvalue(operator)\n",
    "\n",
    "    # Retornar o estado mínimo como saída do modelo\n",
    "    return vqe_result\n",
    "\n",
    "# Função para classificar instâncias\n",
    "def classify_circuit(vqe_result, X_test):\n",
    "    # Simulação simplificada: retorna previsões aleatórias (0 ou 1) para demonstrar o processo\n",
    "    return np.random.randint(2, size=len(X_test))\n",
    "\n",
    "# Função para executar 10-fold cross-validation\n",
    "def run_experiment(X, y, num_qubits):\n",
    "    skf = StratifiedKFold(n_splits=10, shuffle=True, random_state=42)\n",
    "    accuracies = []\n",
    "    losses = []\n",
    "\n",
    "    # Loop pelos folds com barra de progresso\n",
    "    for fold, (train_index, test_index) in enumerate(tqdm(skf.split(X, y), total=10, desc='10-Fold Progress')):\n",
    "        X_train, X_test = X[train_index], X[test_index]\n",
    "        y_train, y_test = y[train_index], y[test_index]\n",
    "\n",
    "        # Treinamento do CQV\n",
    "        vqe_result = train_circuit(X_train, y_train, num_qubits)\n",
    "\n",
    "        # Classificação e avaliação\n",
    "        predictions = classify_circuit(vqe_result, X_test)\n",
    "        accuracy = accuracy_score(y_test, predictions)\n",
    "        accuracies.append(accuracy)\n",
    "\n",
    "        # Calcular loss (usando log_loss para classificação binária)\n",
    "        loss = log_loss(y_test, predictions, labels=[0, 1])\n",
    "        losses.append(loss)\n",
    "\n",
    "        print(f\"Fold {fold + 1}: Accuracy = {accuracy:.4f}, Loss = {loss:.4f}\")\n",
    "\n",
    "    # Relatório final de resultados\n",
    "    mean_accuracy = np.mean(accuracies)\n",
    "    mean_loss = np.mean(losses)\n",
    "    print(f'\\nFinal Results - Mean Accuracy: {mean_accuracy:.4f}, Mean Loss: {mean_loss:.4f}')\n",
    "\n",
    "    # Plot dos gráficos de acurácia e loss por fold\n",
    "    plot_results(accuracies, losses)\n",
    "\n",
    "# Função para plotar gráficos de acurácia e loss por fold\n",
    "def plot_results(accuracies, losses):\n",
    "    folds = np.arange(1, 11)\n",
    "\n",
    "    # Gráfico de acurácia por fold\n",
    "    plt.figure(figsize=(10, 5))\n",
    "    plt.subplot(1, 2, 1)\n",
    "    plt.plot(folds, accuracies, marker='o', linestyle='-', color='blue', label='Accuracy')\n",
    "    plt.xlabel('Fold')\n",
    "    plt.ylabel('Accuracy')\n",
    "    plt.title('Accuracy per Fold')\n",
    "    plt.legend()\n",
    "    plt.grid(True)\n",
    "\n",
    "    # Gráfico de loss por fold\n",
    "    plt.subplot(1, 2, 2)\n",
    "    plt.plot(folds, losses, marker='o', linestyle='-', color='red', label='Loss')\n",
    "    plt.xlabel('Fold')\n",
    "    plt.ylabel('Loss')\n",
    "    plt.title('Loss per Fold')\n",
    "    plt.legend()\n",
    "    plt.grid(True)\n",
    "\n",
    "    plt.tight_layout()\n",
    "    plt.show()\n",
    "\n",
    "# Executar o experimento\n",
    "run_experiment(x_train, y_train, num_qubits=3)  # Exemplo com 3 qubits\n"
   ]
  }
 ],
 "metadata": {
  "kernelspec": {
   "display_name": "qiskit-env",
   "language": "python",
   "name": "python3"
  },
  "language_info": {
   "codemirror_mode": {
    "name": "ipython",
    "version": 3
   },
   "file_extension": ".py",
   "mimetype": "text/x-python",
   "name": "python",
   "nbconvert_exporter": "python",
   "pygments_lexer": "ipython3",
   "version": "3.8.20"
  }
 },
 "nbformat": 4,
 "nbformat_minor": 2
}
